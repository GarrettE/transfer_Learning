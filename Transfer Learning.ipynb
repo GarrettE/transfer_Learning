{
 "cells": [
  {
   "cell_type": "markdown",
   "metadata": {},
   "source": [
    "Transfer Learning example:\n",
    "\n",
    "Use Resnet50 NN architecture trained on ImaeNet to get > 98% accurracy on Kaggle Dogs versus Cat competition. https://www.kaggle.com/c/dogs-vs-cats"
   ]
  },
  {
   "cell_type": "code",
   "execution_count": 1,
   "metadata": {},
   "outputs": [
    {
     "name": "stderr",
     "output_type": "stream",
     "text": [
      "Using TensorFlow backend.\n"
     ]
    }
   ],
   "source": [
    "\n",
    "\n",
    "\n",
    "# import the necessary packages\n",
    "from keras.applications import ResNet50\n",
    "from keras.applications import imagenet_utils\n",
    "from keras.preprocessing.image import img_to_array\n",
    "from keras.preprocessing.image import load_img\n",
    "from sklearn.linear_model import LogisticRegression\n",
    "from sklearn.model_selection import GridSearchCV\n",
    "from sklearn.metrics import classification_report\n",
    "from sklearn.metrics import accuracy_score\n",
    "from sklearn.preprocessing import LabelEncoder\n",
    "from library.io import HDF5DatasetWriter\n",
    "from imutils import paths\n",
    "import numpy as np\n",
    "import progressbar\n",
    "import random\n",
    "import pickle\n",
    "import h5py\n",
    "import os"
   ]
  },
  {
   "cell_type": "code",
   "execution_count": 2,
   "metadata": {
    "collapsed": true
   },
   "outputs": [],
   "source": [
    "#Path to Kaggle dogs versus cats images\n",
    "dataset = \".\\\\library\\\\datasets\\\\kaggle_dogs_vs_cats\\\\train\"\n",
    "bs = 64\n",
    "jobs = 10\n",
    "\n",
    "#Oupt trained model (HDF5) path \n",
    "#writing mdoel to disk makes it easier to deal with datasets \n",
    "#that don't fit into memeory\n",
    "output = \".\\\\dogvcat_output2.hdf5\"\n",
    "db = \".\\\\dogvcat_output2.hdf5\"\n",
    "model = \".\\\\dogs_vs_cats.pickle\"\n"
   ]
  },
  {
   "cell_type": "code",
   "execution_count": 4,
   "metadata": {},
   "outputs": [
    {
     "name": "stdout",
     "output_type": "stream",
     "text": [
      "[INFO] loading images...\n",
      "[INFO] loading network...\n"
     ]
    }
   ],
   "source": [
    "# grab the list of images that we'll be describing then randomly\n",
    "# shuffle them to allow for easy training and testing splits via\n",
    "# array slicing during training time\n",
    "print(\"[INFO] loading images...\")\n",
    "imagePaths = list(paths.list_images(dataset))\n",
    "random.shuffle(imagePaths)\n",
    "\n",
    "# extract the class labels from the image paths then encode the\n",
    "# labels\n",
    "labels = [p.split(os.path.sep)[-1].split(\".\")[0] for p in imagePaths]\n",
    "le = LabelEncoder()\n",
    "labels = le.fit_transform(labels)\n",
    "\n",
    "# load the ResNet50 network\n",
    "print(\"[INFO] loading network...\")\n",
    "model = ResNet50(weights=\"imagenet\", include_top=False)\n",
    "\n",
    "# initialize the HDF5 dataset writer, then store the class label\n",
    "# names in the dataset\n",
    "dataset = HDF5DatasetWriter((len(imagePaths), 2048),\n",
    "\toutput, dataKey=\"features\", bufSize=bs)\n",
    "dataset.storeClassLabels(le.classes_)"
   ]
  },
  {
   "cell_type": "markdown",
   "metadata": {},
   "source": [
    "Create features from Resnet50 NN"
   ]
  },
  {
   "cell_type": "code",
   "execution_count": 5,
   "metadata": {},
   "outputs": [
    {
     "name": "stderr",
     "output_type": "stream",
     "text": [
      "Extracting Features: 100% |####################################| Time:  0:10:24\n"
     ]
    }
   ],
   "source": [
    "# initialize the progress bar\n",
    "widgets = [\"Extracting Features: \", progressbar.Percentage(), \" \",\n",
    "\tprogressbar.Bar(), \" \", progressbar.ETA()]\n",
    "pbar = progressbar.ProgressBar(maxval=len(imagePaths),\n",
    "\twidgets=widgets).start()\n",
    "\n",
    "# loop over the images in batches\n",
    "for i in np.arange(0, len(imagePaths), bs):\n",
    "\t# extract the batch of images and labels, then initialize the\n",
    "\t# list of actual images that will be passed through the network\n",
    "\t# for feature extraction\n",
    "\tbatchPaths = imagePaths[i:i + bs]\n",
    "\tbatchLabels = labels[i:i + bs]\n",
    "\tbatchImages = []\n",
    "\n",
    "\t# loop over the images and labels in the current batch\n",
    "\tfor (j, imagePath) in enumerate(batchPaths):\n",
    "\t\t# load the input image using the Keras helper utility\n",
    "\t\t# while ensuring the image is resized to 224x224 pixels\n",
    "\t\timage = load_img(imagePath, target_size=(224, 224))\n",
    "\t\timage = img_to_array(image)\n",
    "\n",
    "\t\t# preprocess the image by (1) expanding the dimensions and\n",
    "\t\t# (2) subtracting the mean RGB pixel intensity from the\n",
    "\t\t# ImageNet dataset\n",
    "\t\timage = np.expand_dims(image, axis=0)\n",
    "\t\timage = imagenet_utils.preprocess_input(image)\n",
    "\n",
    "\t\t# add the image to the batch\n",
    "\t\tbatchImages.append(image)\n",
    "\n",
    "\t# pass the images through the network and use the outputs as\n",
    "\t# our actual features\n",
    "\tbatchImages = np.vstack(batchImages)\n",
    "\tfeatures = model.predict(batchImages, batch_size=bs)\n",
    "\n",
    "\t# reshape the features so that each image is represented by\n",
    "\t# a flattened feature vector of the `MaxPooling2D` outputs\n",
    "\tfeatures = features.reshape((features.shape[0], 2048))\n",
    "\n",
    "\t# add the features and labels to our HDF5 dataset\n",
    "\tdataset.add(features, batchLabels)\n",
    "\tpbar.update(i)\n",
    "\n",
    "# close the dataset\n",
    "dataset.close()\n",
    "pbar.finish()"
   ]
  },
  {
   "cell_type": "code",
   "execution_count": 6,
   "metadata": {},
   "outputs": [
    {
     "name": "stdout",
     "output_type": "stream",
     "text": [
      "[INFO] best hyperparameters: {'C': 0.01}\n"
     ]
    }
   ],
   "source": [
    "# open the HDF5 database for reading then determine the index of\n",
    "# the training and testing split, provided that this data was\n",
    "# already shuffled *prior* to writing it to disk\n",
    "db = h5py.File(db, \"r\")\n",
    "i = int(db[\"labels\"].shape[0] * 0.75)\n",
    "\n",
    "# define the set of parameters that we want to tune then start a\n",
    "# grid search where we evaluate our model for each value of C\n",
    "params = {\"C\": [0.0001, 0.001, 0.01, 0.1, 1.0]}\n",
    "model = GridSearchCV(LogisticRegression(), params, cv=3,\n",
    "n_jobs=jobs)\n",
    "model.fit(db[\"features\"][:i], db[\"labels\"][:i])\n",
    "print(\"[INFO] best hyperparameters: {}\".format(model.best_params_))"
   ]
  },
  {
   "cell_type": "code",
   "execution_count": 7,
   "metadata": {},
   "outputs": [
    {
     "name": "stdout",
     "output_type": "stream",
     "text": [
      "[INFO] evaluating...\n",
      "             precision    recall  f1-score   support\n",
      "\n",
      "        cat       0.99      0.99      0.99      3108\n",
      "        dog       0.99      0.99      0.99      3142\n",
      "\n",
      "avg / total       0.99      0.99      0.99      6250\n",
      "\n"
     ]
    }
   ],
   "source": [
    "# generate a classification report for the model\n",
    "print(\"[INFO] evaluating...\")\n",
    "preds = model.predict(db[\"features\"][i:])\n",
    "print(classification_report(db[\"labels\"][i:], preds,\n",
    "\ttarget_names=db[\"label_names\"]))"
   ]
  },
  {
   "cell_type": "code",
   "execution_count": 8,
   "metadata": {},
   "outputs": [
    {
     "name": "stdout",
     "output_type": "stream",
     "text": [
      "[INFO] score: 0.98864\n"
     ]
    }
   ],
   "source": [
    "\n",
    "# compute the raw accuracy with extra precision\n",
    "acc = accuracy_score(db[\"labels\"][i:], preds)\n",
    "print(\"[INFO] score: {}\".format(acc))"
   ]
  },
  {
   "cell_type": "code",
   "execution_count": null,
   "metadata": {
    "collapsed": true
   },
   "outputs": [],
   "source": []
  }
 ],
 "metadata": {
  "kernelspec": {
   "display_name": "Python [conda root]",
   "language": "python",
   "name": "conda-root-py"
  },
  "language_info": {
   "codemirror_mode": {
    "name": "ipython",
    "version": 3
   },
   "file_extension": ".py",
   "mimetype": "text/x-python",
   "name": "python",
   "nbconvert_exporter": "python",
   "pygments_lexer": "ipython3",
   "version": "3.6.3"
  }
 },
 "nbformat": 4,
 "nbformat_minor": 2
}
